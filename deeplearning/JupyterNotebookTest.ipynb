{
 "cells": [
  {
   "cell_type": "code",
   "execution_count": 1,
   "metadata": {},
   "outputs": [
    {
     "data": {
      "text/plain": [
       "42"
      ]
     },
     "execution_count": 1,
     "metadata": {},
     "output_type": "execute_result"
    }
   ],
   "source": [
    "40+2"
   ]
  },
  {
   "cell_type": "code",
   "execution_count": 3,
   "metadata": {},
   "outputs": [
    {
     "data": {
      "text/plain": [
       "43"
      ]
     },
     "execution_count": 3,
     "metadata": {},
     "output_type": "execute_result"
    }
   ],
   "source": [
    "42+1"
   ]
  },
  {
   "cell_type": "code",
   "execution_count": 4,
   "metadata": {},
   "outputs": [],
   "source": [
    "import numpy as np"
   ]
  },
  {
   "cell_type": "code",
   "execution_count": 5,
   "metadata": {},
   "outputs": [
    {
     "ename": "NameError",
     "evalue": "name 'out' is not defined",
     "output_type": "error",
     "traceback": [
      "\u001b[0;31m---------------------------------------------------------------------------\u001b[0m",
      "\u001b[0;31mNameError\u001b[0m                                 Traceback (most recent call last)",
      "\u001b[0;32m<ipython-input-5-bc2a673b3295>\u001b[0m in \u001b[0;36m<module>\u001b[0;34m()\u001b[0m\n\u001b[0;32m----> 1\u001b[0;31m \u001b[0mout\u001b[0m\u001b[0;34m[\u001b[0m\u001b[0;36m1\u001b[0m\u001b[0;34m]\u001b[0m\u001b[0;34m\u001b[0m\u001b[0m\n\u001b[0m",
      "\u001b[0;31mNameError\u001b[0m: name 'out' is not defined"
     ]
    }
   ],
   "source": [
    "out[1]"
   ]
  },
  {
   "cell_type": "code",
   "execution_count": 6,
   "metadata": {},
   "outputs": [
    {
     "data": {
      "text/plain": [
       "43"
      ]
     },
     "execution_count": 6,
     "metadata": {},
     "output_type": "execute_result"
    }
   ],
   "source": [
    "Out[3]"
   ]
  },
  {
   "cell_type": "code",
   "execution_count": 7,
   "metadata": {},
   "outputs": [],
   "source": [
    "s = Out[3]"
   ]
  },
  {
   "cell_type": "code",
   "execution_count": null,
   "metadata": {},
   "outputs": [],
   "source": []
  },
  {
   "cell_type": "code",
   "execution_count": 8,
   "metadata": {},
   "outputs": [
    {
     "data": {
      "text/plain": [
       "43"
      ]
     },
     "execution_count": 8,
     "metadata": {},
     "output_type": "execute_result"
    }
   ],
   "source": [
    "s"
   ]
  },
  {
   "cell_type": "code",
   "execution_count": null,
   "metadata": {},
   "outputs": [],
   "source": []
  },
  {
   "cell_type": "code",
   "execution_count": 9,
   "metadata": {},
   "outputs": [
    {
     "data": {
      "text/plain": [
       "<ufunc 'sin'>"
      ]
     },
     "execution_count": 9,
     "metadata": {},
     "output_type": "execute_result"
    }
   ],
   "source": [
    "np.sin"
   ]
  },
  {
   "cell_type": "code",
   "execution_count": 10,
   "metadata": {},
   "outputs": [
    {
     "data": {
      "text/plain": [
       "0.8939966636005579"
      ]
     },
     "execution_count": 10,
     "metadata": {},
     "output_type": "execute_result"
    }
   ],
   "source": [
    "np.sin(90)"
   ]
  },
  {
   "cell_type": "code",
   "execution_count": 11,
   "metadata": {},
   "outputs": [],
   "source": [
    "np.sin?"
   ]
  },
  {
   "cell_type": "code",
   "execution_count": 12,
   "metadata": {},
   "outputs": [],
   "source": [
    "np.any??"
   ]
  },
  {
   "cell_type": "code",
   "execution_count": 13,
   "metadata": {},
   "outputs": [
    {
     "data": {
      "text/plain": [
       "'/home/bnu/Documents/github/Projek-MyGithub/deeplearning'"
      ]
     },
     "execution_count": 13,
     "metadata": {},
     "output_type": "execute_result"
    }
   ],
   "source": [
    "%pwd"
   ]
  },
  {
   "cell_type": "code",
   "execution_count": 14,
   "metadata": {},
   "outputs": [
    {
     "name": "stderr",
     "output_type": "stream",
     "text": [
      "UsageError: %%time is a cell magic, but the cell body is empty. Did you mean the line magic %time (single %)?\n"
     ]
    }
   ],
   "source": [
    "%%time"
   ]
  },
  {
   "cell_type": "code",
   "execution_count": 15,
   "metadata": {},
   "outputs": [
    {
     "name": "stderr",
     "output_type": "stream",
     "text": [
      "UsageError: %%time is a cell magic, but the cell body is empty. Did you mean the line magic %time (single %)?\n"
     ]
    }
   ],
   "source": [
    "%%time"
   ]
  },
  {
   "cell_type": "code",
   "execution_count": 16,
   "metadata": {},
   "outputs": [
    {
     "ename": "SyntaxError",
     "evalue": "invalid syntax (<unknown>, line 1)",
     "output_type": "error",
     "traceback": [
      "Traceback \u001b[0;36m(most recent call last)\u001b[0m:\n",
      "  File \u001b[1;32m\"/home/bnu/anaconda3/lib/python3.6/site-packages/IPython/core/interactiveshell.py\"\u001b[0m, line \u001b[1;32m2910\u001b[0m, in \u001b[1;35mrun_code\u001b[0m\n    exec(code_obj, self.user_global_ns, self.user_ns)\n",
      "  File \u001b[1;32m\"<ipython-input-16-c1adcda5768e>\"\u001b[0m, line \u001b[1;32m1\u001b[0m, in \u001b[1;35m<module>\u001b[0m\n    get_ipython().run_cell_magic('time', '', 'for i is range(5):\\n    print(np.sin(5))')\n",
      "  File \u001b[1;32m\"/home/bnu/anaconda3/lib/python3.6/site-packages/IPython/core/interactiveshell.py\"\u001b[0m, line \u001b[1;32m2131\u001b[0m, in \u001b[1;35mrun_cell_magic\u001b[0m\n    result = fn(magic_arg_s, cell)\n",
      "  File \u001b[1;32m\"<decorator-gen-62>\"\u001b[0m, line \u001b[1;32m2\u001b[0m, in \u001b[1;35mtime\u001b[0m\n",
      "  File \u001b[1;32m\"/home/bnu/anaconda3/lib/python3.6/site-packages/IPython/core/magic.py\"\u001b[0m, line \u001b[1;32m187\u001b[0m, in \u001b[1;35m<lambda>\u001b[0m\n    call = lambda f, *a, **k: f(*a, **k)\n",
      "  File \u001b[1;32m\"/home/bnu/anaconda3/lib/python3.6/site-packages/IPython/core/magics/execution.py\"\u001b[0m, line \u001b[1;32m1202\u001b[0m, in \u001b[1;35mtime\u001b[0m\n    expr_ast = self.shell.compile.ast_parse(expr)\n",
      "\u001b[0;36m  File \u001b[0;32m\"/home/bnu/anaconda3/lib/python3.6/site-packages/IPython/core/compilerop.py\"\u001b[0;36m, line \u001b[0;32m99\u001b[0;36m, in \u001b[0;35mast_parse\u001b[0;36m\u001b[0m\n\u001b[0;31m    return compile(source, filename, symbol, self.flags | PyCF_ONLY_AST, 1)\u001b[0m\n",
      "\u001b[0;36m  File \u001b[0;32m\"<unknown>\"\u001b[0;36m, line \u001b[0;32m1\u001b[0m\n\u001b[0;31m    for i is range(5):\u001b[0m\n\u001b[0m           ^\u001b[0m\n\u001b[0;31mSyntaxError\u001b[0m\u001b[0;31m:\u001b[0m invalid syntax\n"
     ]
    }
   ],
   "source": [
    "%%time\n",
    "for i is range(5):\n",
    "    print(np.sin(5))"
   ]
  },
  {
   "cell_type": "code",
   "execution_count": 17,
   "metadata": {},
   "outputs": [
    {
     "ename": "SyntaxError",
     "evalue": "invalid syntax (<ipython-input-17-a6c8105f61fc>, line 1)",
     "output_type": "error",
     "traceback": [
      "\u001b[0;36m  File \u001b[0;32m\"<ipython-input-17-a6c8105f61fc>\"\u001b[0;36m, line \u001b[0;32m1\u001b[0m\n\u001b[0;31m    print np.sin(5)\u001b[0m\n\u001b[0m           ^\u001b[0m\n\u001b[0;31mSyntaxError\u001b[0m\u001b[0;31m:\u001b[0m invalid syntax\n"
     ]
    }
   ],
   "source": [
    "print np.sin(5)"
   ]
  },
  {
   "cell_type": "code",
   "execution_count": 20,
   "metadata": {},
   "outputs": [
    {
     "data": {
      "text/plain": [
       "-0.9589242746631385"
      ]
     },
     "execution_count": 20,
     "metadata": {},
     "output_type": "execute_result"
    }
   ],
   "source": [
    "np.sin(5)"
   ]
  },
  {
   "cell_type": "code",
   "execution_count": 21,
   "metadata": {},
   "outputs": [
    {
     "name": "stdout",
     "output_type": "stream",
     "text": [
      "-0.9589242746631385\n",
      "-0.9589242746631385\n",
      "-0.9589242746631385\n",
      "-0.9589242746631385\n",
      "-0.9589242746631385\n",
      "CPU times: user 0 ns, sys: 763 µs, total: 763 µs\n",
      "Wall time: 599 µs\n"
     ]
    }
   ],
   "source": [
    "%%time\n",
    "for i in range(5):\n",
    "    print(np.sin(5))"
   ]
  },
  {
   "cell_type": "code",
   "execution_count": 22,
   "metadata": {},
   "outputs": [],
   "source": [
    "%magic"
   ]
  },
  {
   "cell_type": "code",
   "execution_count": 23,
   "metadata": {},
   "outputs": [
    {
     "ename": "SyntaxError",
     "evalue": "invalid syntax (<ipython-input-23-7d9ded721e33>, line 1)",
     "output_type": "error",
     "traceback": [
      "\u001b[0;36m  File \u001b[0;32m\"<ipython-input-23-7d9ded721e33>\"\u001b[0;36m, line \u001b[0;32m1\u001b[0m\n\u001b[0;31m    :ls /var/log\u001b[0m\n\u001b[0m    ^\u001b[0m\n\u001b[0;31mSyntaxError\u001b[0m\u001b[0;31m:\u001b[0m invalid syntax\n"
     ]
    }
   ],
   "source": [
    ":ls /var/log"
   ]
  },
  {
   "cell_type": "code",
   "execution_count": 24,
   "metadata": {},
   "outputs": [
    {
     "name": "stdout",
     "output_type": "stream",
     "text": [
      "alternatives.log    \u001b[0m\u001b[01;31mauth.log.4.gz\u001b[0m    \u001b[01;34mhp\u001b[0m/                 \u001b[01;31msyslog.3.gz\u001b[0m\r\n",
      "alternatives.log.1  boot.log         \u001b[01;34minstaller\u001b[0m/          \u001b[01;31msyslog.4.gz\u001b[0m\r\n",
      "\u001b[01;34mapache2\u001b[0m/            bootstrap.log    kern.log            \u001b[01;31msyslog.5.gz\u001b[0m\r\n",
      "apport.log          btmp             kern.log.1          \u001b[01;31msyslog.6.gz\u001b[0m\r\n",
      "apport.log.1        btmp.1           \u001b[01;31mkern.log.2.gz\u001b[0m       \u001b[01;31msyslog.7.gz\u001b[0m\r\n",
      "\u001b[01;31mapport.log.2.gz\u001b[0m     \u001b[01;34mcups\u001b[0m/            \u001b[01;31mkern.log.3.gz\u001b[0m       \u001b[01;34mteamviewer13\u001b[0m/\r\n",
      "\u001b[01;31mapport.log.3.gz\u001b[0m     \u001b[01;34mdist-upgrade\u001b[0m/    \u001b[01;31mkern.log.4.gz\u001b[0m       \u001b[01;34munattended-upgrades\u001b[0m/\r\n",
      "\u001b[01;31mapport.log.4.gz\u001b[0m     dmesg            lastlog             \u001b[01;34mupstart\u001b[0m/\r\n",
      "\u001b[01;31mapport.log.5.gz\u001b[0m     dpkg.log         \u001b[01;34mlightdm\u001b[0m/            wtmp\r\n",
      "\u001b[01;34mapt\u001b[0m/                dpkg.log.1       \u001b[01;34mmysql\u001b[0m/              wtmp.1\r\n",
      "auth.log            faillog          \u001b[01;34mspeech-dispatcher\u001b[0m/  Xorg.0.log\r\n",
      "auth.log.1          fontconfig.log   syslog              Xorg.0.log.old\r\n",
      "\u001b[01;31mauth.log.2.gz\u001b[0m       \u001b[01;34mfsck\u001b[0m/            syslog.1            Xorg.1.log\r\n",
      "\u001b[01;31mauth.log.3.gz\u001b[0m       gpu-manager.log  \u001b[01;31msyslog.2.gz\u001b[0m\r\n"
     ]
    }
   ],
   "source": [
    "ls /var/log/"
   ]
  },
  {
   "cell_type": "code",
   "execution_count": 25,
   "metadata": {},
   "outputs": [
    {
     "name": "stdout",
     "output_type": "stream",
     "text": [
      "total 7,6M\r\n",
      "4,0K drwxrwxr-x 15 root              syslog 4,0K Apr 23 10:41 \u001b[0m\u001b[01;34m.\u001b[0m/\r\n",
      "4,0K drwxr-xr-x 15 root              root   4,0K Mar 31 22:37 \u001b[01;34m..\u001b[0m/\r\n",
      "4,0K -rw-r--r--  1 root              root   3,0K Apr 18 08:07 alternatives.log\r\n",
      " 48K -rw-r--r--  1 root              root    47K Mar 31 22:54 alternatives.log.1\r\n",
      "4,0K drwxr-x---  2 root              adm    4,0K Apr 23 10:41 \u001b[01;34mapache2\u001b[0m/\r\n",
      "4,0K -rw-r-----  1 root              adm    1,2K Apr 24 09:49 apport.log\r\n",
      "4,0K -rw-r-----  1 root              adm     915 Apr 16 15:50 apport.log.1\r\n",
      "4,0K -rw-r-----  1 root              adm     263 Apr 16 08:19 \u001b[01;31mapport.log.2.gz\u001b[0m\r\n",
      "4,0K -rw-r-----  1 root              adm     202 Apr 13 08:27 \u001b[01;31mapport.log.3.gz\u001b[0m\r\n",
      "4,0K -rw-r-----  1 root              adm     249 Mar  7 14:10 \u001b[01;31mapport.log.4.gz\u001b[0m\r\n",
      "4,0K -rw-r-----  1 root              adm     502 Mar  1 16:18 \u001b[01;31mapport.log.5.gz\u001b[0m\r\n",
      "4,0K drwxr-xr-x  2 root              root   4,0K Apr  2 13:11 \u001b[01;34mapt\u001b[0m/\r\n",
      "156K -rw-r-----  1 syslog            adm    149K Apr 24 15:39 auth.log\r\n",
      " 48K -rw-r-----  1 syslog            adm     42K Apr 16 13:02 auth.log.1\r\n",
      "8,0K -rw-r-----  1 syslog            adm    7,4K Apr 11 07:46 \u001b[01;31mauth.log.2.gz\u001b[0m\r\n",
      " 12K -rw-r-----  1 syslog            adm    9,6K Apr  2 13:09 \u001b[01;31mauth.log.3.gz\u001b[0m\r\n",
      "4,0K -rw-r-----  1 syslog            adm    3,0K Mar 26 07:56 \u001b[01;31mauth.log.4.gz\u001b[0m\r\n",
      "8,0K -rw-r--r--  1 root              root   6,5K Apr 19 10:07 boot.log\r\n",
      " 60K -rw-r--r--  1 root              root    57K Agu  1  2017 bootstrap.log\r\n",
      "   0 -rw-------  1 root              utmp      0 Apr  2 13:11 btmp\r\n",
      "4,0K -rw-------  1 root              utmp   1,2K Mar 16 23:43 btmp.1\r\n",
      "4,0K drwxr-xr-x  2 root              root   4,0K Apr 19 10:12 \u001b[01;34mcups\u001b[0m/\r\n",
      "4,0K drwxr-xr-x  2 root              root   4,0K Jul 19  2017 \u001b[01;34mdist-upgrade\u001b[0m/\r\n",
      "4,0K -rw-r-----  1 root              adm      31 Agu  1  2017 dmesg\r\n",
      "256K -rw-r--r--  1 root              root   251K Apr 24 09:48 dpkg.log\r\n",
      "2,1M -rw-r--r--  1 root              root   2,1M Mar 31 22:54 dpkg.log.1\r\n",
      "8,0K -rw-r--r--  1 root              root    32K Mar 31 22:39 faillog\r\n",
      "4,0K -rw-r--r--  1 root              root   4,0K Mar  1 15:44 fontconfig.log\r\n",
      "4,0K drwxr-xr-x  2 root              root   4,0K Agu  1  2017 \u001b[01;34mfsck\u001b[0m/\r\n",
      "4,0K -rw-r--r--  1 root              root   2,3K Apr 19 10:07 gpu-manager.log\r\n",
      "4,0K drwxr-xr-x  3 root              root   4,0K Agu  1  2017 \u001b[01;34mhp\u001b[0m/\r\n",
      "4,0K drwxrwxr-x  2 root              root   4,0K Mar  1 12:40 \u001b[01;34minstaller\u001b[0m/\r\n",
      "2,0M -rw-r-----  1 syslog            adm    2,0M Apr 24 15:48 kern.log\r\n",
      "340K -rw-r-----  1 syslog            adm    335K Apr 16 13:02 kern.log.1\r\n",
      "148K -rw-r-----  1 syslog            adm    148K Apr 11 07:46 \u001b[01;31mkern.log.2.gz\u001b[0m\r\n",
      "140K -rw-r-----  1 syslog            adm    140K Apr  2 13:06 \u001b[01;31mkern.log.3.gz\u001b[0m\r\n",
      "136K -rw-r-----  1 syslog            adm    135K Mar 26 07:54 \u001b[01;31mkern.log.4.gz\u001b[0m\r\n",
      " 40K -rw-rw-r--  1 root              utmp   286K Mar 31 22:39 lastlog\r\n",
      "4,0K drwxr-xr-x  2 root              root   4,0K Apr 19 10:12 \u001b[01;34mlightdm\u001b[0m/\r\n",
      "4,0K drwxr-x---  2 mysql             adm    4,0K Apr 23 10:41 \u001b[01;34mmysql\u001b[0m/\r\n",
      "4,0K drwx------  2 speech-dispatcher root   4,0K Peb 19  2016 \u001b[01;34mspeech-dispatcher\u001b[0m/\r\n",
      "372K -rw-r-----  1 syslog            adm    367K Apr 24 15:48 syslog\r\n",
      "676K -rw-r-----  1 syslog            adm    672K Apr 23 10:41 syslog.1\r\n",
      "108K -rw-r-----  1 syslog            adm    106K Apr 19 10:12 \u001b[01;31msyslog.2.gz\u001b[0m\r\n",
      "228K -rw-r-----  1 syslog            adm    227K Apr 17 12:58 \u001b[01;31msyslog.3.gz\u001b[0m\r\n",
      " 84K -rw-r-----  1 syslog            adm     83K Apr 16 13:07 \u001b[01;31msyslog.4.gz\u001b[0m\r\n",
      " 48K -rw-r-----  1 syslog            adm     48K Apr 13 08:29 \u001b[01;31msyslog.5.gz\u001b[0m\r\n",
      "244K -rw-r-----  1 syslog            adm    242K Apr 11 07:47 \u001b[01;31msyslog.6.gz\u001b[0m\r\n",
      " 36K -rw-r-----  1 syslog            adm     34K Apr  3 08:35 \u001b[01;31msyslog.7.gz\u001b[0m\r\n",
      "4,0K drwxr-xr-x  2 root              root   4,0K Mar  6 09:23 \u001b[01;34mteamviewer13\u001b[0m/\r\n",
      "4,0K drwxr-x---  2 root              adm    4,0K Apr  2 13:11 \u001b[01;34munattended-upgrades\u001b[0m/\r\n",
      "4,0K drwxr-xr-x  2 root              root   4,0K Mei 19  2016 \u001b[01;34mupstart\u001b[0m/\r\n",
      " 28K -rw-rw-r--  1 root              utmp    24K Apr 19 13:31 wtmp\r\n",
      " 56K -rw-rw-r--  1 root              utmp    50K Mar 28 13:33 wtmp.1\r\n",
      " 60K -rw-r--r--  1 root              root    55K Apr 24 15:34 Xorg.0.log\r\n",
      " 52K -rw-r--r--  1 root              root    51K Apr 19 10:04 Xorg.0.log.old\r\n",
      " 36K -rw-r--r--  1 root              root    34K Mar  4 08:01 Xorg.1.log\r\n"
     ]
    }
   ],
   "source": [
    "ls -lash /var/log/"
   ]
  },
  {
   "cell_type": "code",
   "execution_count": 26,
   "metadata": {},
   "outputs": [
    {
     "name": "stdout",
     "output_type": "stream",
     "text": [
      "alternatives.log    auth.log.4.gz    hp\t\t\tsyslog.3.gz\r\n",
      "alternatives.log.1  boot.log\t     installer\t\tsyslog.4.gz\r\n",
      "apache2\t\t    bootstrap.log    kern.log\t\tsyslog.5.gz\r\n",
      "apport.log\t    btmp\t     kern.log.1\t\tsyslog.6.gz\r\n",
      "apport.log.1\t    btmp.1\t     kern.log.2.gz\tsyslog.7.gz\r\n",
      "apport.log.2.gz     cups\t     kern.log.3.gz\tteamviewer13\r\n",
      "apport.log.3.gz     dist-upgrade     kern.log.4.gz\tunattended-upgrades\r\n",
      "apport.log.4.gz     dmesg\t     lastlog\t\tupstart\r\n",
      "apport.log.5.gz     dpkg.log\t     lightdm\t\twtmp\r\n",
      "apt\t\t    dpkg.log.1\t     mysql\t\twtmp.1\r\n",
      "auth.log\t    faillog\t     speech-dispatcher\tXorg.0.log\r\n",
      "auth.log.1\t    fontconfig.log   syslog\t\tXorg.0.log.old\r\n",
      "auth.log.2.gz\t    fsck\t     syslog.1\t\tXorg.1.log\r\n",
      "auth.log.3.gz\t    gpu-manager.log  syslog.2.gz\r\n"
     ]
    }
   ],
   "source": [
    "!ls /var/log\n",
    "\n"
   ]
  },
  {
   "cell_type": "markdown",
   "metadata": {},
   "source": [
    "#some text gose hear test\n",
    "\n",
    "* list\n",
    "* of \n",
    "* item\n",
    "\n",
    "# Head\n",
    "\n",
    "## Head\n",
    "\n",
    "[Pandas](http://asda.com) is awesome\n"
   ]
  },
  {
   "cell_type": "code",
   "execution_count": null,
   "metadata": {},
   "outputs": [],
   "source": []
  }
 ],
 "metadata": {
  "kernelspec": {
   "display_name": "Python 3",
   "language": "python",
   "name": "python3"
  },
  "language_info": {
   "codemirror_mode": {
    "name": "ipython",
    "version": 3
   },
   "file_extension": ".py",
   "mimetype": "text/x-python",
   "name": "python",
   "nbconvert_exporter": "python",
   "pygments_lexer": "ipython3",
   "version": "3.6.4"
  }
 },
 "nbformat": 4,
 "nbformat_minor": 2
}
