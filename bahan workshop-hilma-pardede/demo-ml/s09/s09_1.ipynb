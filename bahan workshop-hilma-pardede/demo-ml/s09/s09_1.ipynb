{
 "cells": [
  {
   "cell_type": "code",
   "execution_count": 1,
   "metadata": {
    "collapsed": true
   },
   "outputs": [],
   "source": [
    "import numpy as np\n",
    "import mglearn\n",
    "np.random.seed(0)\n",
    "import matplotlib.pyplot as plt\n",
    "%matplotlib inline"
   ]
  },
  {
   "cell_type": "markdown",
   "metadata": {},
   "source": [
    "## Perceptron"
   ]
  },
  {
   "cell_type": "code",
   "execution_count": 7,
   "metadata": {
    "collapsed": true
   },
   "outputs": [],
   "source": [
    "import tensorflow as tf\n",
    "import numpy\n",
    "import matplotlib.pyplot as plt\n",
    "rng = numpy.random"
   ]
  },
  {
   "cell_type": "code",
   "execution_count": 8,
   "metadata": {
    "collapsed": true
   },
   "outputs": [],
   "source": [
    "# Training Data\n",
    "train_X = numpy.asarray([[-0.4, 0.3], [-0.3, -0.1], [-0.2, 0.4], [-0.1, 0.1], [0.1, -0.5], [0.2, -0.9], [0.3, 0.2], [0.4, -0.6]])\n",
    "train_Y = numpy.asarray([[1], [1], [1], [1], [0], [0], [0], [0]])\n",
    "n_samples = train_X.shape[0]"
   ]
  },
  {
   "cell_type": "code",
   "execution_count": 9,
   "metadata": {
    "collapsed": true
   },
   "outputs": [],
   "source": [
    "# Parameters\n",
    "learning_rate = 0.01\n",
    "training_epochs = 25\n",
    "display_step = 1\n",
    "\n",
    "# tf Graph Input\n",
    "x = tf.placeholder(tf.float32, [None, 2]) # input data\n",
    "y = tf.placeholder(tf.float32, [None, 1]) # lables\n",
    "\n",
    "# Set model weights\n",
    "W = tf.Variable(tf.zeros([2, 1]))\n",
    "b = tf.Variable(tf.zeros([1]))\n",
    "\n",
    "# Construct model\n",
    "pred = tf.sigmoid(tf.matmul(x, W) + b) # Sigmoid activation\n",
    "\n",
    "# Minimize error using cross entropy\n",
    "cost = tf.reduce_mean(-tf.reduce_sum(y*tf.log(pred), reduction_indices=1))\n",
    "# Gradient Descent\n",
    "optimizer = tf.train.GradientDescentOptimizer(learning_rate).minimize(cost)\n",
    "\n",
    "# Initializing the variables\n",
    "init = tf.global_variables_initializer()"
   ]
  },
  {
   "cell_type": "code",
   "execution_count": 10,
   "metadata": {},
   "outputs": [
    {
     "name": "stdout",
     "output_type": "stream",
     "text": [
      "Epoch: 0001 cost= 0.346573591 W= [[-0.000625 ], [ 0.0004375]] b= [ 0.0025]\n",
      "Epoch: 0002 cost= 0.345890850 W= [[-0.00124914], [ 0.00087438]] b= [ 0.00499658]\n",
      "Epoch: 0003 cost= 0.345209986 W= [[-0.00187241], [ 0.00131064]] b= [ 0.00748976]\n",
      "Epoch: 0004 cost= 0.344530940 W= [[-0.00249482], [ 0.00174629]] b= [ 0.00997952]\n",
      "Epoch: 0005 cost= 0.343853801 W= [[-0.00311637], [ 0.00218132]] b= [ 0.01246589]\n",
      "Epoch: 0006 cost= 0.343178540 W= [[-0.00373706], [ 0.00261573]] b= [ 0.01494885]\n",
      "Epoch: 0007 cost= 0.342505097 W= [[-0.00435689], [ 0.00304953]] b= [ 0.01742843]\n",
      "Epoch: 0008 cost= 0.341833472 W= [[-0.00497586], [ 0.00348272]] b= [ 0.01990461]\n",
      "Epoch: 0009 cost= 0.341163725 W= [[-0.00559398], [ 0.00391529]] b= [ 0.02237742]\n",
      "Epoch: 0010 cost= 0.340495765 W= [[-0.00621124], [ 0.00434725]] b= [ 0.02484684]\n",
      "Epoch: 0011 cost= 0.339829654 W= [[-0.00682765], [ 0.0047786 ]] b= [ 0.02731289]\n",
      "Epoch: 0012 cost= 0.339165390 W= [[-0.00744321], [ 0.00520934]] b= [ 0.02977557]\n",
      "Epoch: 0013 cost= 0.338502884 W= [[-0.00805791], [ 0.00563947]] b= [ 0.03223489]\n",
      "Epoch: 0014 cost= 0.337842256 W= [[-0.00867177], [ 0.00606899]] b= [ 0.03469085]\n",
      "Epoch: 0015 cost= 0.337183386 W= [[-0.00928477], [ 0.0064979 ]] b= [ 0.03714346]\n",
      "Epoch: 0016 cost= 0.336526364 W= [[-0.00989693], [ 0.00692621]] b= [ 0.03959271]\n",
      "Epoch: 0017 cost= 0.335871071 W= [[-0.01050824], [ 0.0073539 ]] b= [ 0.04203862]\n",
      "Epoch: 0018 cost= 0.335217655 W= [[-0.01111871], [ 0.007781  ]] b= [ 0.04448119]\n",
      "Epoch: 0019 cost= 0.334565938 W= [[-0.01172833], [ 0.00820749]] b= [ 0.04692043]\n",
      "Epoch: 0020 cost= 0.333916068 W= [[-0.01233711], [ 0.00863338]] b= [ 0.04935633]\n",
      "Epoch: 0021 cost= 0.333267957 W= [[-0.01294505], [ 0.00905866]] b= [ 0.05178891]\n",
      "Epoch: 0022 cost= 0.332621574 W= [[-0.01355215], [ 0.00948334]] b= [ 0.05421816]\n",
      "Epoch: 0023 cost= 0.331977010 W= [[-0.01415841], [ 0.00990742]] b= [ 0.0566441]\n",
      "Epoch: 0024 cost= 0.331334233 W= [[-0.01476383], [ 0.0103309 ]] b= [ 0.05906673]\n",
      "Epoch: 0025 cost= 0.330693126 W= [[-0.01536841], [ 0.01075379]] b= [ 0.06148605]\n",
      "Optimization Finished!\n",
      "Accuracy: 1.0\n"
     ]
    }
   ],
   "source": [
    "# Launch the graph\n",
    "with tf.Session() as sess:\n",
    "    sess.run(init)\n",
    "\n",
    "    # Training cycle\n",
    "    for epoch in range(training_epochs):\n",
    "        # Training loop\n",
    "        _, c = sess.run([optimizer, cost], feed_dict={x: train_X, y: train_Y})\n",
    "        \n",
    "        # Display logs per epoch step\n",
    "        if (epoch+1) % display_step == 0:\n",
    "            print (\"Epoch:\", '%04d' % (epoch+1), \"cost=\", \"{:.9f}\".format(c), \n",
    "                   \"W=\", numpy.array_str(sess.run(W)).replace('\\n', ',')\n",
    "                   , \"b=\", sess.run(b))\n",
    "\n",
    "    print (\"Optimization Finished!\")\n",
    "\n",
    "    # Test model\n",
    "    correct_prediction = tf.equal(tf.argmax(pred, 1), tf.argmax(y, 1))\n",
    "    \n",
    "    # Calculate accuracy on training data\n",
    "    accuracy = tf.reduce_mean(tf.cast(correct_prediction, tf.float32))\n",
    "    print (\"Accuracy:\", accuracy.eval({x: train_X, y: train_Y}))"
   ]
  },
  {
   "cell_type": "code",
   "execution_count": 11,
   "metadata": {},
   "outputs": [
    {
     "data": {
      "image/png": "[encoded data removed]",
      "text/plain": [
       "<matplotlib.figure.Figure at 0x7fad4b6cc4a8>"
      ]
     },
     "metadata": {},
     "output_type": "display_data"
    }
   ],
   "source": [
    "#Graphic display\n",
    "\n",
    "plt.plot(train_X[0:3, 0], train_X[0:3, 1],  'ro', label='class 1')\n",
    "plt.plot(train_X[4:7, 0], train_X[4:7, 1],  'bv', label='class 2')\n",
    "#plt.plot(train_X, [-0.01536841,  0.01075379],  b= [ 0.06148605], label='Classifier boundary')\n",
    "\n",
    "plt.ylim(-1, 1)\n",
    "plt.xlim(-1, 1)\n",
    "\n",
    "plt.legend()\n",
    "plt.show()#Graphic display\n"
   ]
  }
 ],
 "metadata": {
  "kernelspec": {
   "display_name": "Python 3",
   "language": "python",
   "name": "python3"
  },
  "language_info": {
   "codemirror_mode": {
    "name": "ipython",
    "version": 3
   },
   "file_extension": ".py",
   "mimetype": "text/x-python",
   "name": "python",
   "nbconvert_exporter": "python",
   "pygments_lexer": "ipython3",
   "version": "3.5.4"
  }
 },
 "nbformat": 4,
 "nbformat_minor": 2
}
